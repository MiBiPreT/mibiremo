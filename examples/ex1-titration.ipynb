{
 "cells": [
  {
   "cell_type": "markdown",
   "metadata": {},
   "source": [
    "# MiBiReMo Example 1: Calcite Titration Curve\n",
    "\n",
    "This notebook models the reaction:\n",
    "\n",
    "$$\\mathrm{CaCO_3(s) + 2HCl(aq) \\rightarrow CaCl_2(aq) + CO_2(g) + H_2O(l)}$$\n",
    "\n",
    "assuming chemical reactions at equilibrium.\n",
    "\n",
    "Author: Matteo Masi  \n",
    "Last revision: 09/06/2025"
   ]
  },
  {
   "cell_type": "markdown",
   "metadata": {},
   "source": [
    "### Import libraries"
   ]
  },
  {
   "cell_type": "code",
   "execution_count": null,
   "metadata": {},
   "outputs": [],
   "source": [
    "import time\n",
    "import matplotlib.pyplot as plt\n",
    "import numpy as np\n",
    "import mibiremo"
   ]
  },
  {
   "cell_type": "markdown",
   "metadata": {},
   "source": [
    "### Global Settings"
   ]
  },
  {
   "cell_type": "code",
   "execution_count": 2,
   "metadata": {},
   "outputs": [],
   "source": [
    "# Global settings\n",
    "database_path = \"../mibiremo/database/phreeqc.dat\"  # .dat database path\n",
    "n_cells = 1000  # Number of model cells\n",
    "n_threads = 4  # Multithread calculation (-1 for all CPUs)\n",
    "pqi_file = \"pqi/ex1_Calcite_titration.pqi\"  # Phreeqc input file\n",
    "hcl_range = [0.0, 4.0]  # mol/L\n",
    "\n",
    "# Unit settings\n",
    "unit_solution = 2  # 1: mg/L; 2: mol/L; 3: kg/kgs\n",
    "units = 1  # 0: mol/L cell; 1: mol/L water; 2: mol/L rock\n",
    "\n",
    "# Physical properties\n",
    "porosity = 1.0  # Porosity\n",
    "saturation = 1.0  # Saturation"
   ]
  },
  {
   "cell_type": "markdown",
   "metadata": {},
   "source": [
    "### Initialize PhreeqcRM"
   ]
  },
  {
   "cell_type": "code",
   "execution_count": null,
   "metadata": {},
   "outputs": [],
   "source": [
    "def initialize_phreeqc():\n",
    "    \"\"\"Initialize and configure PhreeqcRM instance.\"\"\"\n",
    "    phr = mibiremo.PhreeqcRM()\n",
    "    phr.create(nxyz=n_cells, n_threads=n_threads)\n",
    "\n",
    "    # Load database\n",
    "    status = phr.RM_LoadDatabase(database_path)\n",
    "    if status != 0:\n",
    "        raise RuntimeError(\"Failed to load Phreeqc database\")\n",
    "\n",
    "    # Set properties/parameters\n",
    "    phr.RM_SetComponentH2O(0)  # Don't include H2O in component list\n",
    "    phr.RM_SetRebalanceFraction(0.5)  # Rebalance thread load\n",
    "\n",
    "    # Set units\n",
    "    phr.RM_SetUnitsSolution(unit_solution)\n",
    "    phr.RM_SetUnitsPPassemblage(units)\n",
    "    phr.RM_SetUnitsExchange(units)\n",
    "    phr.RM_SetUnitsSurface(units)\n",
    "    phr.RM_SetUnitsGasPhase(units)\n",
    "    phr.RM_SetUnitsSSassemblage(units)\n",
    "    phr.RM_SetUnitsKinetics(units)\n",
    "\n",
    "    # Set porosity and saturation\n",
    "    phr.RM_SetPorosity(porosity * np.ones(n_cells))\n",
    "    phr.RM_SetSaturation(saturation * np.ones(n_cells))\n",
    "\n",
    "    # Create error log files\n",
    "    phr.RM_SetFilePrefix(\"titr\")\n",
    "    phr.RM_OpenFiles()\n",
    "\n",
    "    # Multicomponent diffusion settings\n",
    "    phr.RM_SetSpeciesSaveOn(1)\n",
    "\n",
    "    return phr"
   ]
  },
  {
   "cell_type": "markdown",
   "metadata": {},
   "source": [
    "### Run Initial Setup and Retrieve Component/Species Info"
   ]
  },
  {
   "cell_type": "code",
   "execution_count": 4,
   "metadata": {},
   "outputs": [],
   "source": [
    "def run_initial(phr):\n",
    "    \"\"\"Run initial setup and return component/species information.\"\"\"\n",
    "    # Run the initial setup file\n",
    "    status = phr.RM_RunFile(1, 1, 1, pqi_file)\n",
    "    if status != 0:\n",
    "        raise RuntimeError(\"Failed to run Phreeqc input file\")\n",
    "\n",
    "    # Log thread information\n",
    "    th = phr.RM_GetThreadCount()\n",
    "    phr.RM_OutputMessage(f\"Number of threads: {th}\\n\")\n",
    "\n",
    "    # Transfer initial conditions\n",
    "    ic1 = -1 * np.ones(n_cells * 7, dtype=np.int32)\n",
    "    for i in range(n_cells):\n",
    "        ic1[i] = 1  # Solution 1\n",
    "        ic1[i + n_cells] = 1  # Equilibrium phases 1\n",
    "        # Other phases set to none (-1)\n",
    "        ic1[i + 2*n_cells:i + 7*n_cells] = -1\n",
    "\n",
    "    ic2 = -1 * np.ones(n_cells * 7, dtype=np.int32)\n",
    "    f1 = np.ones(n_cells * 7, dtype=np.float64)\n",
    "\n",
    "    status = phr.RM_InitialPhreeqc2Module(ic1, ic2, f1)\n",
    "\n",
    "    # Get component and species information\n",
    "    n_comps = phr.RM_FindComponents()\n",
    "    n_species = phr.RM_GetSpeciesCount()\n",
    "\n",
    "    components = np.zeros(n_comps, dtype=\"U20\")\n",
    "    for i in range(n_comps):\n",
    "        phr.RM_GetComponent(i, components, 20)\n",
    "\n",
    "    species = np.zeros(n_species, dtype=\"U20\")\n",
    "    for i in range(n_species):\n",
    "        phr.RM_GetSpeciesName(i, species, 20)\n",
    "\n",
    "    # Run initial equilibrium step\n",
    "    phr.RM_SetTime(0.0)\n",
    "    phr.RM_SetTimeStep(0.0)\n",
    "    status = phr.RM_RunCells()\n",
    "\n",
    "    return components, species"
   ]
  },
  {
   "cell_type": "markdown",
   "metadata": {},
   "source": [
    "### Initialize PhreeqcRM and Run Initial Setup"
   ]
  },
  {
   "cell_type": "code",
   "execution_count": 7,
   "metadata": {},
   "outputs": [
    {
     "data": {
      "text/plain": [
       "'Components:'"
      ]
     },
     "metadata": {},
     "output_type": "display_data"
    },
    {
     "name": "stdout",
     "output_type": "stream",
     "text": [
      "  H\n",
      "  O\n",
      "  Charge\n",
      "  C\n",
      "  Ca\n",
      "  Cl\n",
      "  Na\n",
      "\n",
      "Species:\n",
      "  (CO2)2\n",
      "  CH4\n",
      "  CO2\n",
      "  CO3-2\n",
      "  Ca+2\n",
      "  CaCO3\n",
      "  CaHCO3+\n",
      "  CaOH+\n",
      "  Cl-\n",
      "  H+\n",
      "  H2\n",
      "  H2O\n",
      "  HCO3-\n",
      "  Na+\n",
      "  NaCO3-\n",
      "  NaHCO3\n",
      "  NaOH\n",
      "  O2\n",
      "  OH-\n"
     ]
    }
   ],
   "source": [
    "phr = initialize_phreeqc()\n",
    "components, species = run_initial(phr)\n",
    "n_comps = len(components)\n",
    "n_species = len(species)\n",
    "\n",
    "# Show components and species\n",
    "display(\"Components:\")\n",
    "for comp in components:\n",
    "    print(f\"  {comp}\")\n",
    "print(\"\\nSpecies:\")\n",
    "for spec in species:\n",
    "    print(f\"  {spec}\")"
   ]
  },
  {
   "cell_type": "markdown",
   "metadata": {},
   "source": [
    "### Prepare Concentration Vectors and HCl Range"
   ]
  },
  {
   "cell_type": "code",
   "execution_count": 9,
   "metadata": {},
   "outputs": [],
   "source": [
    "# Initialize concentration vectors\n",
    "cc = np.zeros(n_cells * n_comps, dtype=np.float64)\n",
    "cs = np.zeros(n_cells * n_species, dtype=np.float64)\n",
    "phr.RM_GetConcentrations(cc)\n",
    "phr.RM_GetSpeciesConcentrations(cs)\n",
    "\n",
    "# Set HCl concentrations\n",
    "hcl = np.linspace(hcl_range[0], hcl_range[1], n_cells)  # mol/L\n",
    "\n",
    "# Find indices for Cl- and H+ species\n",
    "indx_cl = np.where(species == \"Cl-\")[0][0]\n",
    "indx_h = np.where(species == \"H+\")[0][0]\n",
    "\n",
    "# Update species concentrations with HCl\n",
    "cs_r = cs.reshape(n_species, n_cells).T\n",
    "cs_r[:, indx_cl] += hcl  # Cl-\n",
    "cs_r[:, indx_h] += hcl  # H+\n",
    "cs1 = cs_r.T.reshape(n_cells * n_species)"
   ]
  },
  {
   "cell_type": "markdown",
   "metadata": {},
   "source": [
    "### Run Simulation with Added HCl"
   ]
  },
  {
   "cell_type": "code",
   "execution_count": 10,
   "metadata": {},
   "outputs": [
    {
     "name": "stdout",
     "output_type": "stream",
     "text": [
      "Simulation completed in 0.04 seconds\n"
     ]
    }
   ],
   "source": [
    "phr.RM_SpeciesConcentrations2Module(cs1)\n",
    "phr.RM_SetTime(1.0)\n",
    "phr.RM_SetTimeStep(1.0)\n",
    "\n",
    "start_time = time.time()\n",
    "phr.RM_RunCells()\n",
    "elapsed = time.time() - start_time\n",
    "print(f\"Simulation completed in {elapsed:.2f} seconds\")"
   ]
  },
  {
   "cell_type": "markdown",
   "metadata": {},
   "source": [
    "### Retrieve and Plot Results"
   ]
  },
  {
   "cell_type": "code",
   "execution_count": 11,
   "metadata": {},
   "outputs": [
    {
     "data": {
      "image/png": "[encoded data removed]",
      "text/plain": [
       "<Figure size 1000x600 with 1 Axes>"
      ]
     },
     "metadata": {},
     "output_type": "display_data"
    }
   ],
   "source": [
    "results_df = phr.pdSelectedOutput()\n",
    "\n",
    "plt.figure(figsize=(10, 6))\n",
    "plt.plot(hcl, results_df['pH'])\n",
    "plt.xlabel(\"mol H$^+$ added\")\n",
    "plt.ylabel(\"pH\")\n",
    "plt.title(\"Calcite Titration Curve\")\n",
    "plt.grid(True)\n",
    "plt.show()"
   ]
  }
 ],
 "metadata": {
  "kernelspec": {
   "display_name": ".venv",
   "language": "python",
   "name": "python3"
  },
  "language_info": {
   "codemirror_mode": {
    "name": "ipython",
    "version": 3
   },
   "file_extension": ".py",
   "mimetype": "text/x-python",
   "name": "python",
   "nbconvert_exporter": "python",
   "pygments_lexer": "ipython3",
   "version": "3.12.2"
  }
 },
 "nbformat": 4,
 "nbformat_minor": 2
}
