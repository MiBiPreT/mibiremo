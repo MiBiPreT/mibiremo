{
 "cells": [
  {
   "cell_type": "markdown",
   "metadata": {},
   "source": [
    "# MiBiReMo Example 1: Calcite Titration Curve\n",
    "\n",
    "This notebook uses MiBiReMo to simulate the following reaction:\n",
    "\n",
    "$$\\mathrm{CaCO_3(s) + 2HCl(aq) \\rightarrow CaCl_2(aq) + CO_2(g) + H_2O(l)}$$\n",
    "\n",
    "An initial amount of calcite is titrated with hydrochloric acid (HCl) in a closed system. The system is initially at equilibrium, and the titration is performed by adding HCl in small increments. The resulting changes in the concentrations of the species involved are monitored.\n",
    "Chemical reactions within each step are assumed to be istantaneous (i.e., equilibrium assumption).\n",
    "\n",
    "Author: Matteo Masi  \n",
    "Last revision: 10/06/2025"
   ]
  },
  {
   "cell_type": "markdown",
   "metadata": {},
   "source": [
    "### Import libraries"
   ]
  },
  {
   "cell_type": "code",
   "execution_count": 9,
   "metadata": {},
   "outputs": [],
   "source": [
    "import time\n",
    "import matplotlib.pyplot as plt\n",
    "import numpy as np\n",
    "import mibiremo"
   ]
  },
  {
   "cell_type": "markdown",
   "metadata": {},
   "source": [
    "### Global settings\n",
    "\n",
    "In this section, the main parameters for the simulation are defined, including the initial conditions, reaction parameters, and simulation options."
   ]
  },
  {
   "cell_type": "code",
   "execution_count": 10,
   "metadata": {},
   "outputs": [],
   "source": [
    "# Global settings\n",
    "database_path = \"../mibiremo/database/phreeqc.dat\"  # .dat database path\n",
    "n_cells = 1000  # Number of model cells\n",
    "n_threads = 4  # Multithread calculation (-1 for all CPUs)\n",
    "pqi_file = \"pqi/ex1_Calcite_titration.pqi\"  # Phreeqc input file\n",
    "hcl_range = [0.0, 4.0]  # mol/L\n",
    "\n",
    "# Unit settings\n",
    "unit_solution = 2  # 1: mg/L; 2: mol/L; 3: kg/kgs\n",
    "units = 1  # 0: mol/L cell; 1: mol/L water; 2: mol/L rock\n",
    "\n",
    "# Physical properties\n",
    "porosity = 1.0  # Porosity\n",
    "saturation = 1.0  # Saturation"
   ]
  },
  {
   "cell_type": "markdown",
   "metadata": {},
   "source": [
    "### Initialize PhreeqcRM and run initial setup\n",
    "\n",
    "Here we initialize the PhreeqcRM object and we run an initial simulation to retrieve information about the components and species involved in the simulation. This step is needed to ensure that the system is initialized correctly before proceeding with the titration simulation. After this step, we can get the list of the components and species in the system."
   ]
  },
  {
   "cell_type": "code",
   "execution_count": 11,
   "metadata": {},
   "outputs": [
    {
     "name": "stdout",
     "output_type": "stream",
     "text": [
      "Components:\n",
      "  H\n",
      "  O\n",
      "  Charge\n",
      "  C\n",
      "  Ca\n",
      "  Cl\n",
      "  Na\n",
      "\n",
      "Species:\n",
      "  (CO2)2\n",
      "  CH4\n",
      "  CO2\n",
      "  CO3-2\n",
      "  Ca+2\n",
      "  CaCO3\n",
      "  CaHCO3+\n",
      "  CaOH+\n",
      "  Cl-\n",
      "  H+\n",
      "  H2\n",
      "  H2O\n",
      "  HCO3-\n",
      "  Na+\n",
      "  NaCO3-\n",
      "  NaHCO3\n",
      "  NaOH\n",
      "  O2\n",
      "  OH-\n"
     ]
    }
   ],
   "source": [
    "# Initialize PhreeqcRM\n",
    "phr = mibiremo.PhreeqcRM()\n",
    "phr.create(nxyz=n_cells, n_threads=n_threads)\n",
    "phr.initialize_phreeqc(database_path, unit_solution, units, porosity, saturation)\n",
    "\n",
    "# Prepare the initial conditions\n",
    "# Use SOLUTION 1 and EQUILIBRIUM_PHASES 1, disable all other model features (-1)\n",
    "ic = [1, 1, -1, -1, -1, -1, -1]\n",
    "\n",
    "# Repeat for all other cells (row-wise)\n",
    "ic = np.tile(ic, (n_cells, 1))\n",
    "\n",
    "phr.run_initial_from_file(pqi_file, ic)\n",
    "\n",
    "# Show components and species\n",
    "print(\"Components:\")\n",
    "for comp in phr.components:\n",
    "    print(f\"  {comp}\")\n",
    "print(\"\\nSpecies:\")\n",
    "for spec in phr.species:\n",
    "    print(f\"  {spec}\")"
   ]
  },
  {
   "cell_type": "markdown",
   "metadata": {},
   "source": [
    "### Prepare concentration vectors and apply HCl titration\n",
    "\n",
    "Now we prepare the concentration vectors for the titration simulation. We define first transfer the initial concentrations (from the initial setup) to the concentration vectors, and then we apply the titration by adding HCl in small increments."
   ]
  },
  {
   "cell_type": "code",
   "execution_count": 12,
   "metadata": {},
   "outputs": [],
   "source": [
    "# Get components and species\n",
    "components = phr.components\n",
    "species = phr.species\n",
    "n_comps = len(phr.components)\n",
    "n_species = len(phr.species)\n",
    "\n",
    "\n",
    "# Initialize concentration vectors\n",
    "cc = np.zeros(n_cells * n_comps, dtype=np.float64)\n",
    "cs = np.zeros(n_cells * n_species, dtype=np.float64)\n",
    "phr.RM_GetConcentrations(cc)\n",
    "phr.RM_GetSpeciesConcentrations(cs)\n",
    "\n",
    "# HCl concentration vector\n",
    "hcl = np.linspace(hcl_range[0], hcl_range[1], n_cells)  # mol/L\n",
    "\n",
    "# Find indices for Cl- and H+ species\n",
    "indx_cl = np.where(species == \"Cl-\")[0][0]\n",
    "indx_h = np.where(species == \"H+\")[0][0]\n",
    "\n",
    "# Add HCl\n",
    "cs_r = cs.reshape(n_species, n_cells).T\n",
    "cs_r[:, indx_cl] += hcl  # Cl-\n",
    "cs_r[:, indx_h] += hcl  # H+\n",
    "cs1 = cs_r.T.reshape(n_cells * n_species)  # Updated concentrations (after adding HCl)"
   ]
  },
  {
   "cell_type": "markdown",
   "metadata": {},
   "source": [
    "### Run simulation with added HCl\n",
    "\n",
    "The modified concentration vectors are then passed back to the PhreeqcRM object, and the simulation is run."
   ]
  },
  {
   "cell_type": "code",
   "execution_count": 13,
   "metadata": {},
   "outputs": [
    {
     "name": "stdout",
     "output_type": "stream",
     "text": [
      "Simulation completed in 0.05 seconds\n"
     ]
    }
   ],
   "source": [
    "# Tranfer the modified species concentrations back to PhreeqcRM\n",
    "phr.RM_SpeciesConcentrations2Module(cs1)\n",
    "phr.RM_SetTime(1.0)\n",
    "phr.RM_SetTimeStep(1.0)\n",
    "\n",
    "# Run the simulation\n",
    "start_time = time.time()\n",
    "phr.RM_RunCells()\n",
    "elapsed = time.time() - start_time\n",
    "print(f\"Simulation completed in {elapsed:.2f} seconds\")"
   ]
  },
  {
   "cell_type": "markdown",
   "metadata": {},
   "source": [
    "### Retrieve and plot the results\n",
    "\n",
    "The \"Selected Output\" function of PhreeqcRM is used to retrieve the results of the simulation. A Pandas DataFrame is created to store the results."
   ]
  },
  {
   "cell_type": "code",
   "execution_count": 14,
   "metadata": {},
   "outputs": [
    {
     "data": {
      "application/vnd.microsoft.datawrangler.viewer.v0+json": {
       "columns": [
        {
         "name": "index",
         "rawType": "int64",
         "type": "integer"
        },
        {
         "name": "sim",
         "rawType": "float64",
         "type": "float"
        },
        {
         "name": "state",
         "rawType": "float64",
         "type": "float"
        },
        {
         "name": "soln",
         "rawType": "float64",
         "type": "float"
        },
        {
         "name": "dist_x",
         "rawType": "float64",
         "type": "float"
        },
        {
         "name": "time",
         "rawType": "float64",
         "type": "float"
        },
        {
         "name": "step",
         "rawType": "float64",
         "type": "float"
        },
        {
         "name": "pH",
         "rawType": "float64",
         "type": "float"
        },
        {
         "name": "pe",
         "rawType": "float64",
         "type": "float"
        },
        {
         "name": "mass_H2O",
         "rawType": "float64",
         "type": "float"
        },
        {
         "name": "charge(eq)",
         "rawType": "float64",
         "type": "float"
        },
        {
         "name": "m_H+(mol/kgw)",
         "rawType": "float64",
         "type": "float"
        },
        {
         "name": "m_OH-(mol/kgw)",
         "rawType": "float64",
         "type": "float"
        }
       ],
       "ref": "e72c4b95-de0a-4ded-b535-0d6e863e349a",
       "rows": [
        [
         "0",
         "1.0",
         "1.0000000150474662e+30",
         "0.0",
         "-99.0",
         "0.0",
         "1.0",
         "8.336471248638146",
         "12.285796377270376",
         "0.9961688495213807",
         "7.635922320184077e-07",
         "5.407555599577187e-09",
         "2.7109055233342057e-06"
        ],
        [
         "1",
         "1.0",
         "1.0000000150474662e+30",
         "1.0",
         "-99.0",
         "0.0",
         "1.0",
         "8.068482758675426",
         "12.55380380275866",
         "0.9962101338080256",
         "7.635922320189326e-07",
         "1.0067728089789981e-08",
         "1.4741316226767911e-06"
        ],
        [
         "2",
         "1.0",
         "1.0000000150474662e+30",
         "2.0",
         "-99.0",
         "0.0",
         "1.0",
         "7.945004080081643",
         "12.67730381786769",
         "0.9962476876015612",
         "7.635922320027342e-07",
         "1.3440953722666654e-08",
         "1.1185864932538337e-06"
        ],
        [
         "3",
         "1.0",
         "1.0000000150474662e+30",
         "3.0",
         "-99.0",
         "0.0",
         "1.0",
         "7.868327747165569",
         "12.754001974592338",
         "0.996284473912477",
         "7.635922319324397e-07",
         "1.6106596019799495e-08",
         "9.450340068435475e-07"
        ],
        [
         "4",
         "1.0",
         "1.0000000150474662e+30",
         "4.0",
         "-99.0",
         "0.0",
         "1.0",
         "7.8134873589197",
         "12.80886436717956",
         "0.9963209756336612",
         "7.635922320063162e-07",
         "1.834885781080637e-08",
         "8.392179156301602e-07"
        ]
       ],
       "shape": {
        "columns": 12,
        "rows": 5
       }
      },
      "text/html": [
       "<div>\n",
       "<style scoped>\n",
       "    .dataframe tbody tr th:only-of-type {\n",
       "        vertical-align: middle;\n",
       "    }\n",
       "\n",
       "    .dataframe tbody tr th {\n",
       "        vertical-align: top;\n",
       "    }\n",
       "\n",
       "    .dataframe thead th {\n",
       "        text-align: right;\n",
       "    }\n",
       "</style>\n",
       "<table border=\"1\" class=\"dataframe\">\n",
       "  <thead>\n",
       "    <tr style=\"text-align: right;\">\n",
       "      <th></th>\n",
       "      <th>sim</th>\n",
       "      <th>state</th>\n",
       "      <th>soln</th>\n",
       "      <th>dist_x</th>\n",
       "      <th>time</th>\n",
       "      <th>step</th>\n",
       "      <th>pH</th>\n",
       "      <th>pe</th>\n",
       "      <th>mass_H2O</th>\n",
       "      <th>charge(eq)</th>\n",
       "      <th>m_H+(mol/kgw)</th>\n",
       "      <th>m_OH-(mol/kgw)</th>\n",
       "    </tr>\n",
       "  </thead>\n",
       "  <tbody>\n",
       "    <tr>\n",
       "      <th>0</th>\n",
       "      <td>1.0</td>\n",
       "      <td>1.000000e+30</td>\n",
       "      <td>0.0</td>\n",
       "      <td>-99.0</td>\n",
       "      <td>0.0</td>\n",
       "      <td>1.0</td>\n",
       "      <td>8.336471</td>\n",
       "      <td>12.285796</td>\n",
       "      <td>0.996169</td>\n",
       "      <td>7.635922e-07</td>\n",
       "      <td>5.407556e-09</td>\n",
       "      <td>2.710906e-06</td>\n",
       "    </tr>\n",
       "    <tr>\n",
       "      <th>1</th>\n",
       "      <td>1.0</td>\n",
       "      <td>1.000000e+30</td>\n",
       "      <td>1.0</td>\n",
       "      <td>-99.0</td>\n",
       "      <td>0.0</td>\n",
       "      <td>1.0</td>\n",
       "      <td>8.068483</td>\n",
       "      <td>12.553804</td>\n",
       "      <td>0.996210</td>\n",
       "      <td>7.635922e-07</td>\n",
       "      <td>1.006773e-08</td>\n",
       "      <td>1.474132e-06</td>\n",
       "    </tr>\n",
       "    <tr>\n",
       "      <th>2</th>\n",
       "      <td>1.0</td>\n",
       "      <td>1.000000e+30</td>\n",
       "      <td>2.0</td>\n",
       "      <td>-99.0</td>\n",
       "      <td>0.0</td>\n",
       "      <td>1.0</td>\n",
       "      <td>7.945004</td>\n",
       "      <td>12.677304</td>\n",
       "      <td>0.996248</td>\n",
       "      <td>7.635922e-07</td>\n",
       "      <td>1.344095e-08</td>\n",
       "      <td>1.118586e-06</td>\n",
       "    </tr>\n",
       "    <tr>\n",
       "      <th>3</th>\n",
       "      <td>1.0</td>\n",
       "      <td>1.000000e+30</td>\n",
       "      <td>3.0</td>\n",
       "      <td>-99.0</td>\n",
       "      <td>0.0</td>\n",
       "      <td>1.0</td>\n",
       "      <td>7.868328</td>\n",
       "      <td>12.754002</td>\n",
       "      <td>0.996284</td>\n",
       "      <td>7.635922e-07</td>\n",
       "      <td>1.610660e-08</td>\n",
       "      <td>9.450340e-07</td>\n",
       "    </tr>\n",
       "    <tr>\n",
       "      <th>4</th>\n",
       "      <td>1.0</td>\n",
       "      <td>1.000000e+30</td>\n",
       "      <td>4.0</td>\n",
       "      <td>-99.0</td>\n",
       "      <td>0.0</td>\n",
       "      <td>1.0</td>\n",
       "      <td>7.813487</td>\n",
       "      <td>12.808864</td>\n",
       "      <td>0.996321</td>\n",
       "      <td>7.635922e-07</td>\n",
       "      <td>1.834886e-08</td>\n",
       "      <td>8.392179e-07</td>\n",
       "    </tr>\n",
       "  </tbody>\n",
       "</table>\n",
       "</div>"
      ],
      "text/plain": [
       "   sim         state  soln  dist_x  time  step        pH         pe  mass_H2O  \\\n",
       "0  1.0  1.000000e+30   0.0   -99.0   0.0   1.0  8.336471  12.285796  0.996169   \n",
       "1  1.0  1.000000e+30   1.0   -99.0   0.0   1.0  8.068483  12.553804  0.996210   \n",
       "2  1.0  1.000000e+30   2.0   -99.0   0.0   1.0  7.945004  12.677304  0.996248   \n",
       "3  1.0  1.000000e+30   3.0   -99.0   0.0   1.0  7.868328  12.754002  0.996284   \n",
       "4  1.0  1.000000e+30   4.0   -99.0   0.0   1.0  7.813487  12.808864  0.996321   \n",
       "\n",
       "     charge(eq)  m_H+(mol/kgw)  m_OH-(mol/kgw)  \n",
       "0  7.635922e-07   5.407556e-09    2.710906e-06  \n",
       "1  7.635922e-07   1.006773e-08    1.474132e-06  \n",
       "2  7.635922e-07   1.344095e-08    1.118586e-06  \n",
       "3  7.635922e-07   1.610660e-08    9.450340e-07  \n",
       "4  7.635922e-07   1.834886e-08    8.392179e-07  "
      ]
     },
     "execution_count": 14,
     "metadata": {},
     "output_type": "execute_result"
    }
   ],
   "source": [
    "# Get the results as a Pandas Dataframe from selected output\n",
    "results_df = phr.pdSelectedOutput()\n",
    "results_df.head()"
   ]
  },
  {
   "cell_type": "code",
   "execution_count": 15,
   "metadata": {},
   "outputs": [
    {
     "data": {
      "image/png": "[encoded data removed]",
      "text/plain": [
       "<Figure size 800x300 with 1 Axes>"
      ]
     },
     "metadata": {},
     "output_type": "display_data"
    }
   ],
   "source": [
    "# Plot\n",
    "plt.figure(figsize=(8, 3))\n",
    "plt.plot(hcl, results_df[\"pH\"])\n",
    "plt.xlabel(\"mol H$^+$ added\")\n",
    "plt.ylabel(\"pH\")\n",
    "plt.title(\"Calcite Titration Curve\")\n",
    "plt.grid(True)\n",
    "plt.show()"
   ]
  }
 ],
 "metadata": {
  "kernelspec": {
   "display_name": ".venv",
   "language": "python",
   "name": "python3"
  },
  "language_info": {
   "codemirror_mode": {
    "name": "ipython",
    "version": 3
   },
   "file_extension": ".py",
   "mimetype": "text/x-python",
   "name": "python",
   "nbconvert_exporter": "python",
   "pygments_lexer": "ipython3",
   "version": "3.12.2"
  }
 },
 "nbformat": 4,
 "nbformat_minor": 2
}
